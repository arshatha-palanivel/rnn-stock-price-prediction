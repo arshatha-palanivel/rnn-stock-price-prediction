{
  "nbformat": 4,
  "nbformat_minor": 0,
  "metadata": {
    "colab": {
      "provenance": []
    },
    "kernelspec": {
      "name": "python3",
      "display_name": "Python 3"
    },
    "language_info": {
      "name": "python"
    }
  },
  "cells": [
    {
      "cell_type": "code",
      "execution_count": 1,
      "metadata": {
        "id": "4SP0O2qPmMWH"
      },
      "outputs": [],
      "source": [
        "import numpy as np\n",
        "import matplotlib.pyplot as plt\n",
        "import pandas as pd\n",
        "from sklearn.preprocessing import MinMaxScaler\n",
        "from keras import layers\n",
        "from keras.models import Sequential"
      ]
    },
    {
      "cell_type": "code",
      "source": [
        "dataset_train = pd.read_csv('trainset.csv')\n",
        "dataset_train.columns\n",
        "dataset_train.head()\n",
        "train_set = dataset_train.iloc[:,1:2].values\n",
        "type(train_set)\n",
        "train_set.shape"
      ],
      "metadata": {
        "colab": {
          "base_uri": "https://localhost:8080/"
        },
        "id": "WbQc93Wfm62j",
        "outputId": "19412a8a-fa0a-4519-9453-a6296fc60705"
      },
      "execution_count": 2,
      "outputs": [
        {
          "output_type": "execute_result",
          "data": {
            "text/plain": [
              "(1259, 1)"
            ]
          },
          "metadata": {},
          "execution_count": 2
        }
      ]
    },
    {
      "cell_type": "code",
      "source": [
        "sc = MinMaxScaler(feature_range=(0,1))\n",
        "training_set_scaled = sc.fit_transform(train_set)\n",
        "training_set_scaled.shape"
      ],
      "metadata": {
        "colab": {
          "base_uri": "https://localhost:8080/"
        },
        "id": "CVbGYCrdm65V",
        "outputId": "af01bc87-02a6-45b6-a827-c3d5bb8ec650"
      },
      "execution_count": 3,
      "outputs": [
        {
          "output_type": "execute_result",
          "data": {
            "text/plain": [
              "(1259, 1)"
            ]
          },
          "metadata": {},
          "execution_count": 3
        }
      ]
    },
    {
      "cell_type": "code",
      "source": [
        "X_train_array = []\n",
        "y_train_array = []\n",
        "for i in range(60, 1259):\n",
        "  X_train_array.append(training_set_scaled[i-60:i,0])\n",
        "  y_train_array.append(training_set_scaled[i,0])\n",
        "X_train, y_train = np.array(X_train_array), np.array(y_train_array)\n",
        "X_train1 = X_train.reshape((X_train.shape[0], X_train.shape[1],1))"
      ],
      "metadata": {
        "id": "QrgR0-kIm672"
      },
      "execution_count": 4,
      "outputs": []
    },
    {
      "cell_type": "code",
      "source": [
        "X_train.shape\n",
        "length = 60\n",
        "n_features = 1"
      ],
      "metadata": {
        "id": "eSpY_sBFm6-Y"
      },
      "execution_count": 5,
      "outputs": []
    },
    {
      "cell_type": "code",
      "source": [
        "model = Sequential()\n",
        "model.add(layers.SimpleRNN(50,input_shape=(length,n_features)))\n",
        "model.add(layers.Dense(1))"
      ],
      "metadata": {
        "id": "l8lvJzO4m7A8"
      },
      "execution_count": 6,
      "outputs": []
    },
    {
      "cell_type": "code",
      "source": [
        "model.compile(optimizer='adam', loss='mse')"
      ],
      "metadata": {
        "id": "IY5x4UF_m7DT"
      },
      "execution_count": 7,
      "outputs": []
    },
    {
      "cell_type": "code",
      "source": [
        "print(\"Name: ARSHATHA.P  Register Number: 212222230012\")\n",
        "model.summary()"
      ],
      "metadata": {
        "colab": {
          "base_uri": "https://localhost:8080/"
        },
        "id": "sAZUjgLEm7F5",
        "outputId": "d2cbc243-7508-44db-a8eb-5f863e3372ad"
      },
      "execution_count": 8,
      "outputs": [
        {
          "output_type": "stream",
          "name": "stdout",
          "text": [
            "Name: ARSHATHA.P  Register Number: 212222230012\n",
            "Model: \"sequential\"\n",
            "_________________________________________________________________\n",
            " Layer (type)                Output Shape              Param #   \n",
            "=================================================================\n",
            " simple_rnn (SimpleRNN)      (None, 50)                2600      \n",
            "                                                                 \n",
            " dense (Dense)               (None, 1)                 51        \n",
            "                                                                 \n",
            "=================================================================\n",
            "Total params: 2651 (10.36 KB)\n",
            "Trainable params: 2651 (10.36 KB)\n",
            "Non-trainable params: 0 (0.00 Byte)\n",
            "_________________________________________________________________\n"
          ]
        }
      ]
    },
    {
      "cell_type": "code",
      "source": [
        "model.fit(X_train1,y_train,epochs=100, batch_size=32)"
      ],
      "metadata": {
        "colab": {
          "base_uri": "https://localhost:8080/"
        },
        "id": "osJ370Cpm7If",
        "outputId": "f41269cd-623d-4d2f-bd8a-318b84982afe"
      },
      "execution_count": 9,
      "outputs": [
        {
          "output_type": "stream",
          "name": "stdout",
          "text": [
            "Epoch 1/100\n",
            "38/38 [==============================] - 2s 12ms/step - loss: 0.0410\n",
            "Epoch 2/100\n",
            "38/38 [==============================] - 0s 11ms/step - loss: 8.7393e-04\n",
            "Epoch 3/100\n",
            "38/38 [==============================] - 0s 11ms/step - loss: 6.5214e-04\n",
            "Epoch 4/100\n",
            "38/38 [==============================] - 0s 11ms/step - loss: 5.5824e-04\n",
            "Epoch 5/100\n",
            "38/38 [==============================] - 0s 12ms/step - loss: 5.0598e-04\n",
            "Epoch 6/100\n",
            "38/38 [==============================] - 0s 11ms/step - loss: 4.7903e-04\n",
            "Epoch 7/100\n",
            "38/38 [==============================] - 0s 11ms/step - loss: 4.9401e-04\n",
            "Epoch 8/100\n",
            "38/38 [==============================] - 0s 12ms/step - loss: 4.9160e-04\n",
            "Epoch 9/100\n",
            "38/38 [==============================] - 0s 11ms/step - loss: 4.3929e-04\n",
            "Epoch 10/100\n",
            "38/38 [==============================] - 0s 12ms/step - loss: 4.2751e-04\n",
            "Epoch 11/100\n",
            "38/38 [==============================] - 0s 11ms/step - loss: 4.5314e-04\n",
            "Epoch 12/100\n",
            "38/38 [==============================] - 0s 12ms/step - loss: 4.0888e-04\n",
            "Epoch 13/100\n",
            "38/38 [==============================] - 0s 11ms/step - loss: 4.1982e-04\n",
            "Epoch 14/100\n",
            "38/38 [==============================] - 0s 11ms/step - loss: 4.1368e-04\n",
            "Epoch 15/100\n",
            "38/38 [==============================] - 0s 11ms/step - loss: 4.9801e-04\n",
            "Epoch 16/100\n",
            "38/38 [==============================] - 0s 11ms/step - loss: 4.1068e-04\n",
            "Epoch 17/100\n",
            "38/38 [==============================] - 0s 12ms/step - loss: 4.0081e-04\n",
            "Epoch 18/100\n",
            "38/38 [==============================] - 0s 11ms/step - loss: 5.1026e-04\n",
            "Epoch 19/100\n",
            "38/38 [==============================] - 0s 11ms/step - loss: 4.4676e-04\n",
            "Epoch 20/100\n",
            "38/38 [==============================] - 1s 16ms/step - loss: 3.9325e-04\n",
            "Epoch 21/100\n",
            "38/38 [==============================] - 1s 19ms/step - loss: 3.5918e-04\n",
            "Epoch 22/100\n",
            "38/38 [==============================] - 1s 18ms/step - loss: 3.9430e-04\n",
            "Epoch 23/100\n",
            "38/38 [==============================] - 1s 19ms/step - loss: 3.9703e-04\n",
            "Epoch 24/100\n",
            "38/38 [==============================] - 1s 16ms/step - loss: 3.5095e-04\n",
            "Epoch 25/100\n",
            "38/38 [==============================] - 0s 11ms/step - loss: 4.1340e-04\n",
            "Epoch 26/100\n",
            "38/38 [==============================] - 0s 12ms/step - loss: 3.4761e-04\n",
            "Epoch 27/100\n",
            "38/38 [==============================] - 0s 11ms/step - loss: 3.4294e-04\n",
            "Epoch 28/100\n",
            "38/38 [==============================] - 0s 11ms/step - loss: 3.3820e-04\n",
            "Epoch 29/100\n",
            "38/38 [==============================] - 0s 12ms/step - loss: 3.2073e-04\n",
            "Epoch 30/100\n",
            "38/38 [==============================] - 0s 11ms/step - loss: 3.3355e-04\n",
            "Epoch 31/100\n",
            "38/38 [==============================] - 0s 12ms/step - loss: 3.9454e-04\n",
            "Epoch 32/100\n",
            "38/38 [==============================] - 0s 11ms/step - loss: 3.4070e-04\n",
            "Epoch 33/100\n",
            "38/38 [==============================] - 0s 12ms/step - loss: 3.0784e-04\n",
            "Epoch 34/100\n",
            "38/38 [==============================] - 0s 11ms/step - loss: 2.9431e-04\n",
            "Epoch 35/100\n",
            "38/38 [==============================] - 0s 11ms/step - loss: 3.2836e-04\n",
            "Epoch 36/100\n",
            "38/38 [==============================] - 0s 12ms/step - loss: 3.1453e-04\n",
            "Epoch 37/100\n",
            "38/38 [==============================] - 0s 11ms/step - loss: 3.0851e-04\n",
            "Epoch 38/100\n",
            "38/38 [==============================] - 0s 12ms/step - loss: 3.0120e-04\n",
            "Epoch 39/100\n",
            "38/38 [==============================] - 0s 11ms/step - loss: 3.4769e-04\n",
            "Epoch 40/100\n",
            "38/38 [==============================] - 0s 12ms/step - loss: 3.0681e-04\n",
            "Epoch 41/100\n",
            "38/38 [==============================] - 0s 11ms/step - loss: 2.9247e-04\n",
            "Epoch 42/100\n",
            "38/38 [==============================] - 0s 11ms/step - loss: 2.7766e-04\n",
            "Epoch 43/100\n",
            "38/38 [==============================] - 0s 12ms/step - loss: 2.6904e-04\n",
            "Epoch 44/100\n",
            "38/38 [==============================] - 0s 11ms/step - loss: 2.8581e-04\n",
            "Epoch 45/100\n",
            "38/38 [==============================] - 0s 12ms/step - loss: 2.7769e-04\n",
            "Epoch 46/100\n",
            "38/38 [==============================] - 0s 11ms/step - loss: 3.0683e-04\n",
            "Epoch 47/100\n",
            "38/38 [==============================] - 1s 16ms/step - loss: 2.6509e-04\n",
            "Epoch 48/100\n",
            "38/38 [==============================] - 1s 18ms/step - loss: 2.6129e-04\n",
            "Epoch 49/100\n",
            "38/38 [==============================] - 1s 19ms/step - loss: 3.0018e-04\n",
            "Epoch 50/100\n",
            "38/38 [==============================] - 1s 19ms/step - loss: 2.7535e-04\n",
            "Epoch 51/100\n",
            "38/38 [==============================] - 1s 16ms/step - loss: 2.5559e-04\n",
            "Epoch 52/100\n",
            "38/38 [==============================] - 0s 12ms/step - loss: 2.8367e-04\n",
            "Epoch 53/100\n",
            "38/38 [==============================] - 0s 11ms/step - loss: 2.5154e-04\n",
            "Epoch 54/100\n",
            "38/38 [==============================] - 0s 11ms/step - loss: 2.9506e-04\n",
            "Epoch 55/100\n",
            "38/38 [==============================] - 0s 11ms/step - loss: 2.5550e-04\n",
            "Epoch 56/100\n",
            "38/38 [==============================] - 0s 11ms/step - loss: 2.8851e-04\n",
            "Epoch 57/100\n",
            "38/38 [==============================] - 0s 12ms/step - loss: 2.4629e-04\n",
            "Epoch 58/100\n",
            "38/38 [==============================] - 0s 11ms/step - loss: 2.5027e-04\n",
            "Epoch 59/100\n",
            "38/38 [==============================] - 0s 11ms/step - loss: 2.7187e-04\n",
            "Epoch 60/100\n",
            "38/38 [==============================] - 0s 11ms/step - loss: 2.5644e-04\n",
            "Epoch 61/100\n",
            "38/38 [==============================] - 0s 12ms/step - loss: 2.3119e-04\n",
            "Epoch 62/100\n",
            "38/38 [==============================] - 0s 11ms/step - loss: 2.5677e-04\n",
            "Epoch 63/100\n",
            "38/38 [==============================] - 1s 18ms/step - loss: 2.5313e-04\n",
            "Epoch 64/100\n",
            "38/38 [==============================] - 1s 22ms/step - loss: 2.5249e-04\n",
            "Epoch 65/100\n",
            "38/38 [==============================] - 0s 12ms/step - loss: 2.2127e-04\n",
            "Epoch 66/100\n",
            "38/38 [==============================] - 0s 11ms/step - loss: 2.2170e-04\n",
            "Epoch 67/100\n",
            "38/38 [==============================] - 0s 11ms/step - loss: 2.1959e-04\n",
            "Epoch 68/100\n",
            "38/38 [==============================] - 0s 11ms/step - loss: 2.1688e-04\n",
            "Epoch 69/100\n",
            "38/38 [==============================] - 0s 12ms/step - loss: 2.7927e-04\n",
            "Epoch 70/100\n",
            "38/38 [==============================] - 0s 11ms/step - loss: 2.6655e-04\n",
            "Epoch 71/100\n",
            "38/38 [==============================] - 0s 11ms/step - loss: 2.2904e-04\n",
            "Epoch 72/100\n",
            "38/38 [==============================] - 0s 13ms/step - loss: 2.3217e-04\n",
            "Epoch 73/100\n",
            "38/38 [==============================] - 1s 19ms/step - loss: 2.1262e-04\n",
            "Epoch 74/100\n",
            "38/38 [==============================] - 1s 18ms/step - loss: 2.3658e-04\n",
            "Epoch 75/100\n",
            "38/38 [==============================] - 1s 18ms/step - loss: 2.2954e-04\n",
            "Epoch 76/100\n",
            "38/38 [==============================] - 1s 20ms/step - loss: 2.1380e-04\n",
            "Epoch 77/100\n",
            "38/38 [==============================] - 0s 11ms/step - loss: 2.3989e-04\n",
            "Epoch 78/100\n",
            "38/38 [==============================] - 0s 11ms/step - loss: 2.1412e-04\n",
            "Epoch 79/100\n",
            "38/38 [==============================] - 0s 11ms/step - loss: 2.0277e-04\n",
            "Epoch 80/100\n",
            "38/38 [==============================] - 0s 11ms/step - loss: 2.1119e-04\n",
            "Epoch 81/100\n",
            "38/38 [==============================] - 0s 12ms/step - loss: 2.0755e-04\n",
            "Epoch 82/100\n",
            "38/38 [==============================] - 0s 11ms/step - loss: 2.1608e-04\n",
            "Epoch 83/100\n",
            "38/38 [==============================] - 0s 11ms/step - loss: 2.5698e-04\n",
            "Epoch 84/100\n",
            "38/38 [==============================] - 0s 11ms/step - loss: 1.9250e-04\n",
            "Epoch 85/100\n",
            "38/38 [==============================] - 0s 11ms/step - loss: 1.9763e-04\n",
            "Epoch 86/100\n",
            "38/38 [==============================] - 0s 12ms/step - loss: 2.0101e-04\n",
            "Epoch 87/100\n",
            "38/38 [==============================] - 1s 17ms/step - loss: 1.9872e-04\n",
            "Epoch 88/100\n",
            "38/38 [==============================] - 1s 25ms/step - loss: 2.0183e-04\n",
            "Epoch 89/100\n",
            "38/38 [==============================] - 1s 21ms/step - loss: 2.4562e-04\n",
            "Epoch 90/100\n",
            "38/38 [==============================] - 1s 19ms/step - loss: 1.9118e-04\n",
            "Epoch 91/100\n",
            "38/38 [==============================] - 1s 23ms/step - loss: 2.0043e-04\n",
            "Epoch 92/100\n",
            "38/38 [==============================] - 1s 14ms/step - loss: 1.9439e-04\n",
            "Epoch 93/100\n",
            "38/38 [==============================] - 0s 12ms/step - loss: 2.1598e-04\n",
            "Epoch 94/100\n",
            "38/38 [==============================] - 0s 12ms/step - loss: 2.2926e-04\n",
            "Epoch 95/100\n",
            "38/38 [==============================] - 1s 19ms/step - loss: 2.0899e-04\n",
            "Epoch 96/100\n",
            "38/38 [==============================] - 1s 18ms/step - loss: 2.3197e-04\n",
            "Epoch 97/100\n",
            "38/38 [==============================] - 1s 18ms/step - loss: 1.8331e-04\n",
            "Epoch 98/100\n",
            "38/38 [==============================] - 1s 18ms/step - loss: 1.7957e-04\n",
            "Epoch 99/100\n",
            "38/38 [==============================] - 1s 16ms/step - loss: 1.8838e-04\n",
            "Epoch 100/100\n",
            "38/38 [==============================] - 0s 12ms/step - loss: 1.8321e-04\n"
          ]
        },
        {
          "output_type": "execute_result",
          "data": {
            "text/plain": [
              "<keras.src.callbacks.History at 0x7d32d0d0efb0>"
            ]
          },
          "metadata": {},
          "execution_count": 9
        }
      ]
    },
    {
      "cell_type": "code",
      "source": [
        "dataset_test = pd.read_csv('testset.csv')\n",
        "test_set = dataset_test.iloc[:,1:2].values\n",
        "test_set.shape\n",
        "dataset_total = pd.concat((dataset_train['Open'],dataset_test['Open']),axis=0)"
      ],
      "metadata": {
        "id": "Jcaq7RbLm7LH"
      },
      "execution_count": 10,
      "outputs": []
    },
    {
      "cell_type": "code",
      "source": [
        "inputs = dataset_total.values\n",
        "inputs = inputs.reshape(-1,1)\n",
        "inputs_scaled=sc.transform(inputs)\n",
        "X_test = []\n",
        "for i in range(60,1384):\n",
        "  X_test.append(inputs_scaled[i-60:i,0])\n",
        "X_test = np.array(X_test)\n",
        "X_test = np.reshape(X_test,(X_test.shape[0], X_test.shape[1],1))"
      ],
      "metadata": {
        "id": "qGptnuEhm7Nb"
      },
      "execution_count": 11,
      "outputs": []
    },
    {
      "cell_type": "code",
      "source": [
        "X_test.shape\n",
        "predicted_stock_price_scaled = model.predict(X_test)\n",
        "predicted_stock_price = sc.inverse_transform(predicted_stock_price_scaled)"
      ],
      "metadata": {
        "colab": {
          "base_uri": "https://localhost:8080/"
        },
        "id": "PNgtt1Kxm7QD",
        "outputId": "52507b2a-8aff-4c00-ad54-499e5fbb202c"
      },
      "execution_count": 12,
      "outputs": [
        {
          "output_type": "stream",
          "name": "stdout",
          "text": [
            "42/42 [==============================] - 0s 5ms/step\n"
          ]
        }
      ]
    },
    {
      "cell_type": "code",
      "source": [
        "print(\"Name: ARSHATHA.P   Register Number: 212222230012 \")\n",
        "plt.plot(np.arange(0,1384),inputs, color='red', label = 'Test(Real) Google stock price')\n",
        "plt.plot(np.arange(60,1384),predicted_stock_price, color='blue', label = 'Predicted Google stock price')\n",
        "plt.title('Google Stock Price Prediction')\n",
        "plt.xlabel('Time')\n",
        "plt.ylabel('Google Stock Price')\n",
        "plt.legend()\n",
        "plt.show()"
      ],
      "metadata": {
        "colab": {
          "base_uri": "https://localhost:8080/",
          "height": 489
        },
        "id": "dggle8vTm7Sa",
        "outputId": "0ed72440-81b0-4b55-f66e-67ca7631e545"
      },
      "execution_count": 14,
      "outputs": [
        {
          "output_type": "stream",
          "name": "stdout",
          "text": [
            "Name: ARSHATHA.P   Register Number: 212222230012 \n"
          ]
        },
        {
          "output_type": "display_data",
          "data": {
            "text/plain": [
              "<Figure size 640x480 with 1 Axes>"
            ],
            "image/png": "[encoded data removed]"
          },
          "metadata": {}
        }
      ]
    },
    {
      "cell_type": "code",
      "source": [],
      "metadata": {
        "id": "GvT4J8Tgm7VC"
      },
      "execution_count": null,
      "outputs": []
    },
    {
      "cell_type": "code",
      "source": [],
      "metadata": {
        "id": "9ZRfnrdQm7Xo"
      },
      "execution_count": null,
      "outputs": []
    },
    {
      "cell_type": "code",
      "source": [],
      "metadata": {
        "id": "0Kyr1XjMm7aY"
      },
      "execution_count": null,
      "outputs": []
    },
    {
      "cell_type": "code",
      "source": [],
      "metadata": {
        "id": "PemLHC3Jm7cy"
      },
      "execution_count": null,
      "outputs": []
    },
    {
      "cell_type": "code",
      "source": [],
      "metadata": {
        "id": "NnMbX6sQm7gM"
      },
      "execution_count": null,
      "outputs": []
    }
  ]
}